{
 "cells": [
  {
   "cell_type": "code",
   "execution_count": 1,
   "metadata": {},
   "outputs": [],
   "source": [
    "import numpy as np\n",
    "import pandas as pd\n",
    "import h5py"
   ]
  },
  {
   "cell_type": "code",
   "execution_count": null,
   "metadata": {},
   "outputs": [],
   "source": []
  },
  {
   "cell_type": "code",
   "execution_count": null,
   "metadata": {},
   "outputs": [],
   "source": []
  },
  {
   "cell_type": "code",
   "execution_count": 2,
   "metadata": {},
   "outputs": [],
   "source": [
    "Parameters = pd.read_hdf('/data/user/ponts_m/DataSets/GODataSet/DS10000_532nm_GO.h5', key = 'qoi')\n",
    "PhaseFunctions = pd.read_hdf('/data/user/ponts_m/DataSets/GODataSet/DS10000_532nm_GO.h5', key = 'dvar')"
   ]
  },
  {
   "cell_type": "markdown",
   "metadata": {},
   "source": [
    "### Getting max and min values of the dataset and saving them (to be able to read them in in the loss function)"
   ]
  },
  {
   "cell_type": "code",
   "execution_count": 23,
   "metadata": {},
   "outputs": [],
   "source": [
    "qoi_max = np.max(Parameters)\n",
    "qoi_min = np.min(Parameters)\n",
    "\n",
    "np.save('qoi_max_10k.npy', qoi_max.to_numpy())\n",
    "np.save('qoi_min_10k.npy', qoi_min.to_numpy())\n",
    "\n",
    "dvar_max = np.max(PhaseFunctions)\n",
    "dvar_min = np.min(PhaseFunctions)\n",
    "\n",
    "np.save('dvar_max_10k.npy', dvar_max.to_numpy())\n",
    "np.save('dvar_min_10k.npy', dvar_min.to_numpy())"
   ]
  },
  {
   "cell_type": "markdown",
   "metadata": {},
   "source": [
    "### Scaling the Parameters and the PhaseFunctions according to the min-max-scaler formula"
   ]
  },
  {
   "cell_type": "code",
   "execution_count": 56,
   "metadata": {},
   "outputs": [],
   "source": [
    "ScaledParameters = forward_scaling(Parameters)\n",
    "ScaledPhaseFunctions = forward_scaling(PhaseFunctions)"
   ]
  },
  {
   "cell_type": "markdown",
   "metadata": {},
   "source": [
    "### Save the scaled dataset"
   ]
  },
  {
   "cell_type": "code",
   "execution_count": 57,
   "metadata": {},
   "outputs": [],
   "source": [
    "ScaledParameters.to_hdf('/data/user/ponts_m/DataSets/GODataSet/DS10000_532nm_GO_scaled.h5', key = 'qoi')\n",
    "ScaledPhaseFunctions.to_hdf('/data/user/ponts_m/DataSets/GODataSet/DS10000_532nm_GO_scaled.h5', key = 'dvar')"
   ]
  },
  {
   "cell_type": "markdown",
   "metadata": {},
   "source": [
    "### Define normal and inverse scaling function"
   ]
  },
  {
   "cell_type": "code",
   "execution_count": 24,
   "metadata": {},
   "outputs": [],
   "source": [
    "def forward_scaling(data):\n",
    "    xmax = np.max(data)\n",
    "    xmin = np.min(data)\n",
    "    return (data-xmin)/(xmax-xmin)"
   ]
  },
  {
   "cell_type": "markdown",
   "metadata": {},
   "source": [
    "the custom forward scaling is needed because in the loss function the input $x_{\\text{scaled}}$ is inverse-scaled, then the $y$-quantities are calculated and then they need to be scaled again to be compared with the true $y$-values. However, they need to be scaled in the same way as the other $y$-data, so it needs to be done with the max- and min-values from before"
   ]
  },
  {
   "cell_type": "code",
   "execution_count": 58,
   "metadata": {},
   "outputs": [],
   "source": [
    "def custom_forward_scaling(data, xmax, xmin):\n",
    "    return (data-xmin)/(xmax-xmin)"
   ]
  },
  {
   "cell_type": "markdown",
   "metadata": {},
   "source": [
    "reverse scaling"
   ]
  },
  {
   "cell_type": "code",
   "execution_count": 59,
   "metadata": {},
   "outputs": [],
   "source": [
    "def inverse_scaling(data, xmax, xmin):\n",
    "    return data*(xmax-xmin)+xmin"
   ]
  },
  {
   "cell_type": "code",
   "execution_count": null,
   "metadata": {},
   "outputs": [],
   "source": []
  }
 ],
 "metadata": {
  "kernelspec": {
   "display_name": "Python [conda env:MasterEnv]",
   "language": "python",
   "name": "conda-env-MasterEnv-py"
  },
  "language_info": {
   "codemirror_mode": {
    "name": "ipython",
    "version": 3
   },
   "file_extension": ".py",
   "mimetype": "text/x-python",
   "name": "python",
   "nbconvert_exporter": "python",
   "pygments_lexer": "ipython3",
   "version": "3.7.11"
  }
 },
 "nbformat": 4,
 "nbformat_minor": 2
}
